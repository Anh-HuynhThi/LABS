{
 "cells": [
  {
   "cell_type": "code",
   "execution_count": 33,
   "id": "837dba2b",
   "metadata": {},
   "outputs": [],
   "source": [
    "array=[True,  True,  True,  False,\n",
    "  True,  True,  True,  True ,\n",
    "  True,  False, True,  False,\n",
    "  True,  False, False, True ,\n",
    "  True,  True,  True,  True ,\n",
    "  False, False, True,  True]"
   ]
  },
  {
   "cell_type": "code",
   "execution_count": 34,
   "id": "82624787",
   "metadata": {},
   "outputs": [
    {
     "data": {
      "text/plain": [
       "17"
      ]
     },
     "execution_count": 34,
     "metadata": {},
     "output_type": "execute_result"
    }
   ],
   "source": [
    "def count_sheeps(array):\n",
    "    amount = 0\n",
    "    for sheep in array:\n",
    "        if (sheep == True):\n",
    "            amount += 1\n",
    "    return amount\n",
    "\n",
    "count_sheeps(array)"
   ]
  },
  {
   "cell_type": "code",
   "execution_count": 55,
   "id": "8fa44d26",
   "metadata": {},
   "outputs": [
    {
     "data": {
      "text/plain": [
       "['Keep', 'Keep', 'Keep']"
      ]
     },
     "execution_count": 55,
     "metadata": {},
     "output_type": "execute_result"
    }
   ],
   "source": [
    "my_list = ['Keep', 'Remove', 'Keep', 'Remove', 'Keep', ...]\n",
    "\n",
    "def remove_every_other(my_list):\n",
    "    return [i for e,i in enumerate(my_list) if e % 2 == 0]\n",
    "remove_every_other(my_list)"
   ]
  },
  {
   "cell_type": "code",
   "execution_count": 58,
   "id": "bd22dc23",
   "metadata": {},
   "outputs": [
    {
     "name": "stdout",
     "output_type": "stream",
     "text": [
      "[5, 4, 3, 2, 1]\n"
     ]
    }
   ],
   "source": [
    "n = 12345\n",
    "def digitize(n):\n",
    "    return [int(s) for s in str(n)][::-1]\n",
    "print(digitize(12345))\n"
   ]
  },
  {
   "cell_type": "code",
   "execution_count": 63,
   "id": "8b1f1713",
   "metadata": {},
   "outputs": [
    {
     "data": {
      "text/plain": [
       "41625"
      ]
     },
     "execution_count": 63,
     "metadata": {},
     "output_type": "execute_result"
    }
   ],
   "source": [
    "num = 245\n",
    "def square_digits(num):\n",
    "    output = \"\"\n",
    "    for digit in str(num):\n",
    "        output += str(int(digit) ** 2)\n",
    "    return int(output)\n",
    "square_digits(num)"
   ]
  },
  {
   "cell_type": "code",
   "execution_count": 68,
   "id": "03ece9b2",
   "metadata": {},
   "outputs": [
    {
     "name": "stdout",
     "output_type": "stream",
     "text": [
      "1\n"
     ]
    }
   ],
   "source": [
    "d = 3\n",
    "n = 12463786666\n",
    "def countoccurrences(n, d):\n",
    "    count = 0\n",
    "    while (n > 0):\n",
    "        if(n % 10 == d):\n",
    "            count = count + 1\n",
    "        n = n // 10\n",
    "    return count\n",
    "print(countoccurrences(n, d))"
   ]
  }
 ],
 "metadata": {
  "kernelspec": {
   "display_name": "Python 3 (ipykernel)",
   "language": "python",
   "name": "python3"
  },
  "language_info": {
   "codemirror_mode": {
    "name": "ipython",
    "version": 3
   },
   "file_extension": ".py",
   "mimetype": "text/x-python",
   "name": "python",
   "nbconvert_exporter": "python",
   "pygments_lexer": "ipython3",
   "version": "3.9.12"
  }
 },
 "nbformat": 4,
 "nbformat_minor": 5
}
