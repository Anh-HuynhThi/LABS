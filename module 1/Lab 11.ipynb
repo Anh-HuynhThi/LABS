{
 "cells": [
  {
   "cell_type": "code",
   "execution_count": 16,
   "id": "a1b02ae4",
   "metadata": {},
   "outputs": [],
   "source": [
    "#Define a method/function that removes from a given array of integers all the values contained in a second array:"
   ]
  },
  {
   "cell_type": "code",
   "execution_count": 17,
   "id": "ed3d55db",
   "metadata": {},
   "outputs": [],
   "source": [
    "integer_list =  [1, 1, 2 ,3 ,1 ,2 ,3 ,4]\n",
    "values_list = [1, 3]"
   ]
  },
  {
   "cell_type": "code",
   "execution_count": 18,
   "id": "61c068e6",
   "metadata": {},
   "outputs": [],
   "source": [
    "def list_int(integer_list,values_list):\n",
    "    result = []\n",
    "    for i in integer_list:\n",
    "        if i  not in values_list:\n",
    "            result.append(i)\n",
    "        else:\n",
    "            continue\n",
    "    return result"
   ]
  },
  {
   "cell_type": "code",
   "execution_count": 19,
   "id": "36ad1d4a",
   "metadata": {},
   "outputs": [],
   "source": [
    "#Method For Counting Total Occurence Of Specific Digits\n",
    "integers_list =  [1, 1, 2 ,3 ,1 ,2 ,3 ,4]\n",
    "digits_list = [1, 3]"
   ]
  },
  {
   "cell_type": "code",
   "execution_count": 20,
   "id": "e708dd04",
   "metadata": {},
   "outputs": [],
   "source": [
    "def int_digits(integers,digits):\n",
    "    digit_counts = []\n",
    "    results = []\n",
    "    int_str =''.join([str(i) for i in integers])\n",
    "    for j in digits:\n",
    "        digit_counts.append(int_str.count(str(j)))\n",
    "    for k in range(len(digits)):\n",
    "        results.append((digits[k],digit_counts[k]))\n",
    "    return results"
   ]
  },
  {
   "cell_type": "code",
   "execution_count": 21,
   "id": "25ddc188",
   "metadata": {},
   "outputs": [],
   "source": [
    "#Ordered Count of Characters\n",
    "def ordered_count(_input):\n",
    "    l = []\n",
    "    for i in _input:\n",
    "        if i not in l:\n",
    "            l.append(i)\n",
    "    return [(i, _input.count(i)) for i in l]"
   ]
  },
  {
   "cell_type": "code",
   "execution_count": 22,
   "id": "eeeea568",
   "metadata": {},
   "outputs": [
    {
     "data": {
      "text/plain": [
       "[('a', 5), ('b', 2), ('r', 2), ('c', 1), ('d', 1)]"
      ]
     },
     "execution_count": 22,
     "metadata": {},
     "output_type": "execute_result"
    }
   ],
   "source": [
    "ordered_count(\"abracadabra\")"
   ]
  }
 ],
 "metadata": {
  "kernelspec": {
   "display_name": "Python 3 (ipykernel)",
   "language": "python",
   "name": "python3"
  },
  "language_info": {
   "codemirror_mode": {
    "name": "ipython",
    "version": 3
   },
   "file_extension": ".py",
   "mimetype": "text/x-python",
   "name": "python",
   "nbconvert_exporter": "python",
   "pygments_lexer": "ipython3",
   "version": "3.9.12"
  }
 },
 "nbformat": 4,
 "nbformat_minor": 5
}
