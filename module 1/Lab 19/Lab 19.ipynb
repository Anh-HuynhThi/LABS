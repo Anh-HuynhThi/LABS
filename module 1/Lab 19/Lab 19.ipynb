{
 "cells": [
  {
   "cell_type": "code",
   "execution_count": null,
   "id": "ee2f155d",
   "metadata": {},
   "outputs": [],
   "source": [
    "#1.From the `order_items` table, find the price of the highest priced order and lowest price ord\n",
    "'6735' ---the highest price\n",
    "'0.85' --- the lowest price\n",
    "\n",
    "use olist;\n",
    "select price from order_items\n",
    "WHERE Price = (SELECT MAX(Price) FROM order_items)\n",
    "      OR Price = (SELECT MIN(Price) FROM order_items);\n",
    "    \n",
    "#Or use can do:\n",
    "SELECT Price FROM order_items ORDER BY Price ASC limit 1; \n",
    "SELECT Price FROM order_items ORDER BY Price desc limit 1; \n"
   ]
  },
  {
   "cell_type": "code",
   "execution_count": null,
   "id": "cdc50f49",
   "metadata": {},
   "outputs": [],
   "source": [
    "#2. From the `order_items` table, what is range of the shipping_limit_date of the orders?\n",
    "'2020-04-10(00:35:08)-----2016-09-19(02:15:34)'\n",
    "select shipping_limit_date from order_items\n",
    "where shipping_limit_date = (SELECT MAX(shipping_limit_date) FROM order_items)\n",
    "OR shipping_limit_date = (SELECT MIN(shipping_limit_date) FROM order_items);\n",
    " #or we can do:\n",
    "select min(shipping_limit_date) from order_items;\n",
    "select max(shipping_limit_date) from order_items;\n"
   ]
  },
  {
   "cell_type": "code",
   "execution_count": null,
   "id": "29cbd5be",
   "metadata": {},
   "outputs": [],
   "source": [
    "#3. From the `customers` table, find the states with the greatest number of customers.\n",
    "'greatest states with greatest number of customers:SP-99441'    \n",
    "\n",
    "select customer_state, count(customer_id) as number from customers\n",
    "order by number desc limit 1;\n"
   ]
  },
  {
   "cell_type": "code",
   "execution_count": null,
   "id": "a3f02d03",
   "metadata": {},
   "outputs": [],
   "source": [
    "#4. From the `customers` table, within the state with the greatest number of customers, find the cities with the greatest number of customers.\n",
    "'cities with the greatest number of customers:franca:99441'\n",
    "\n",
    "select customer_city, count(customer_id) as number from customers\n",
    "order by number desc limit 1;\n"
   ]
  },
  {
   "cell_type": "code",
   "execution_count": null,
   "id": "8bbf39b1",
   "metadata": {},
   "outputs": [],
   "source": [
    "#5. From the `closed_deals` table, how many distinct business segments are there (not including null)?\n",
    "'33 business segment'\n",
    "\n",
    "Select count(DISTINCT business_segment)\n",
    "from closed_deals\n"
   ]
  },
  {
   "cell_type": "code",
   "execution_count": null,
   "id": "fa9b63f5",
   "metadata": {},
   "outputs": [],
   "source": [
    "#6. From the `closed_deals` table, sum the declared_monthly_revenue for duplicate row values in business_segment and find the 3 business segments with the highest declared monthly revenue (of those that declared revenue).\n",
    "'construction_tools_house_garden: 50695006'\n",
    "'phone_mobile', '8000000'\n",
    "'home_decor', '710000'\n",
    "\n",
    "select business_segment, sum(declared_monthly_revenue) from closed_deals\n",
    "group by business_segment order by sum(declared_monthly_revenue) desc limit 3;"
   ]
  },
  {
   "cell_type": "code",
   "execution_count": null,
   "id": "453e8d89",
   "metadata": {},
   "outputs": [],
   "source": [
    "#7. From the `order_reviews` table, find the total number of distinct review score values.\n",
    "'total number of distinct review score values: 15'\n",
    "\n",
    "select sum(distinct review_score) from order_reviews;"
   ]
  },
  {
   "cell_type": "code",
   "execution_count": null,
   "id": "0d235fcb",
   "metadata": {},
   "outputs": [],
   "source": [
    " #8. In the `order_reviews` table, create a new column with a description that corresponds to each number category for each review score from 1 - 5, then find the review score and category occurring most frequently in the table.\n",
    "'2', '3235'\n",
    "'3', '8287'\n",
    "'1', '11858'\n",
    "'4', '19200'\n",
    "'5', '57420'\n",
    "\n",
    "ALTER TABLE order_reviews\n",
    "ADD review_category varchar(255);\n",
    "\n",
    "SELECT * FROM order_reviews;\n",
    "\n",
    "SET SQL_SAFE_UPDATES = 0;\n",
    "\n",
    "UPDATE order_reviews\n",
    "SET review_category = \"VERY BAD\"\n",
    "WHERE review_score = 1;\n",
    "\n",
    "UPDATE order_reviews\n",
    "SET review_category = \"BAD\"\n",
    "WHERE review_score = 2;\n",
    "\n",
    "UPDATE order_reviews\n",
    "SET review_category = \"AVERAGE\"\n",
    "WHERE review_score = 3;\n",
    "\n",
    "UPDATE order_reviews\n",
    "SET review_category = \"GOOD\"\n",
    "WHERE review_score = 4;\n",
    "\n",
    "UPDATE order_reviews\n",
    "SET review_category = \"VERY GOOD\"\n",
    "WHERE review_score = 5;\n",
    "\n",
    "SET SQL_SAFE_UPDATES = 1;\n",
    "\n",
    "SELECT * FROM order_reviews;\n",
    "\n",
    "SELECT review_category, review_score, Count(review_id) FROM order_reviews\n",
    "GROUP BY review_category, review_score\n",
    "ORDER BY Count(review_id) DESC;\n",
    "\n",
    "    "
   ]
  },
  {
   "cell_type": "code",
   "execution_count": null,
   "id": "3d454de1",
   "metadata": {},
   "outputs": [],
   "source": [
    "#9. From the `order_reviews` table, find the review value occurring most frequently and how many times it occurs.\n",
    "'5', '57420'\n",
    "\n",
    "SELECT review_score, Count(review_score) FROM order_reviews\n",
    "GROUP BY review_score\n",
    "ORDER BY Count(review_id) DESC limit 1;"
   ]
  }
 ],
 "metadata": {
  "kernelspec": {
   "display_name": "Python 3 (ipykernel)",
   "language": "python",
   "name": "python3"
  },
  "language_info": {
   "codemirror_mode": {
    "name": "ipython",
    "version": 3
   },
   "file_extension": ".py",
   "mimetype": "text/x-python",
   "name": "python",
   "nbconvert_exporter": "python",
   "pygments_lexer": "ipython3",
   "version": "3.9.12"
  }
 },
 "nbformat": 4,
 "nbformat_minor": 5
}
