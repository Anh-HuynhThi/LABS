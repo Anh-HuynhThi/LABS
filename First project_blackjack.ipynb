{
 "cells": [
  {
   "cell_type": "code",
   "execution_count": null,
   "id": "d0306f35",
   "metadata": {},
   "outputs": [],
   "source": [
    "\n",
    "Project 1 : Blackjack\n",
    "\n",
    "In this project, we are creating a game of blackjack. We are implementing it in Python.\n",
    "\n",
    "Plan of the project\n",
    "\n",
    "I Rules of the game 1 Overview 2 Value of the cards 3 The process of a round 4 Ending the round 5_ Process of the game\n",
    "\n",
    "I Rules of the game\n",
    "\n",
    "1_ Overview\n",
    "\n",
    "The rules of the game that we are about to implement are the following. We are playing with a standard deck of 52 playing cards. There are between 1 and 4 players. Their objective is to beat the dealer that will play automatically. Each player and the dealer (I will refer to a player or thee dealer as an actor) receive cards. Cards have a value. Each actor decides to either get more cards or stop and lock their score. A player wins if his score is greater than the dealer's but not greater than 21. If an actor's score is greater than 21, we say that he is busted. A busted player automatically loses whatever the dealer does.\n",
    "\n",
    "2_ Value of the cards\n",
    "\n",
    "There are 52 cards in the deck separated in 4 colors that have no meaning in this game. Each color has 13 cards, ten numbered cards that range from 1 to 10 and 3 faces which are the jack, the queen and the king. The value of each face is 10, the value of each card between 2 and 10 is its number. The 1 has a value that depends on the actor's score. It stands for 11 unless the actor's score is greater than 21, in which case it stands for 1.\n",
    "\n",
    "3_ The process of a round\n",
    "\n",
    "At the start of the game, each player is given a stack of 500 chips. At the start of every round, each player has the choice to either leave the game and lock his score as final or continue the game. Then the round starts and each player bets any even non-zero amount of chips not greater than 100 chips that he can afford.\n",
    "\n",
    "The dealer receives one card and each player receives two cards that are revealed to all players. Any player that has two cards with the same value and can afford may choose to separate those in two hands, putting an identical bet on the second hand that is freshly created. We say that he splits his hand. Till the end of the round, he will manage his two hands separately and each hand can win or lose him the round separately. Then the first player choose to hit or to stand. If he hits, he draws an additionnal card, adding it to his hand. If his score becomes greater than 21, he is busted. If he stands, he locks his score for the round. He repeats until he either stands or is busted. Then each player does the same in turns. The dealer does the same, but automatically hits if his score is less than 17. If his score is between 17 and 21, he stands.\n",
    "\n",
    "4_ Ending the round\n",
    "\n",
    "Each busted player loses the round. Any player that has a score greater than the dealer's wins the round. Use 0 as the dealer's score if he is busted. Any other player loses the round. Any losing player loses his bet and the chips are taken from his stack. Any winning player wins an amount of chips equal to his bet unless his score is 21 (we say that he has a blackjack), in which case he wins 150% of his bet.\n",
    "\n",
    "5_ Process of the game\n",
    "\n",
    "The players play rounds until everyone either leaves the game at the start of a round or lose all his stack of chips. The winning player is the one with the biggest final score. Try your best!\n",
    "\n"
   ]
  }
 ],
 "metadata": {
  "kernelspec": {
   "display_name": "Python 3 (ipykernel)",
   "language": "python",
   "name": "python3"
  },
  "language_info": {
   "codemirror_mode": {
    "name": "ipython",
    "version": 3
   },
   "file_extension": ".py",
   "mimetype": "text/x-python",
   "name": "python",
   "nbconvert_exporter": "python",
   "pygments_lexer": "ipython3",
   "version": "3.9.12"
  }
 },
 "nbformat": 4,
 "nbformat_minor": 5
}
